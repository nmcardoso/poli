{
 "cells": [
  {
   "cell_type": "code",
   "execution_count": 41,
   "metadata": {},
   "outputs": [
    {
     "data": {
      "application/vnd.vegalite.v5+json": {
       "$schema": "https://vega.github.io/schema/vega-lite/v5.8.0.json",
       "config": {
        "view": {
         "continuousHeight": 300,
         "continuousWidth": 300
        }
       },
       "data": {
        "name": "data-bfbe58b76669468578a12cc14c6afca0"
       },
       "datasets": {
        "data-bfbe58b76669468578a12cc14c6afca0": [
         {
          "end_time": 3,
          "memory": 50,
          "name": "Job 1",
          "opacity": 1,
          "start_time": 1,
          "status": "execução"
         },
         {
          "end_time": 6,
          "memory": 100,
          "name": "Job 2",
          "opacity": 1,
          "start_time": 4,
          "status": "execução"
         },
         {
          "end_time": 10,
          "memory": 150,
          "name": "Job 3",
          "opacity": 1,
          "start_time": 8,
          "status": "execução"
         }
        ]
       },
       "layer": [
        {
         "encoding": {
          "color": {
           "field": "status",
           "scale": {
            "domain": [
             "execução",
             "espera"
            ],
            "range": [
             "#1f77b4",
             "#d62728"
            ]
           },
           "type": "nominal"
          },
          "x": {
           "field": "start_time",
           "title": "Tempo de simulação",
           "type": "quantitative"
          },
          "x2": {
           "field": "end_time"
          },
          "y": {
           "field": "name",
           "title": "Job",
           "type": "nominal"
          }
         },
         "mark": {
          "type": "bar"
         }
        },
        {
         "encoding": {
          "detail": {
           "field": "status",
           "type": "nominal"
          },
          "text": {
           "field": "status",
           "type": "nominal"
          },
          "x": {
           "field": "end_time",
           "type": "quantitative"
          },
          "y": {
           "field": "name",
           "type": "nominal"
          }
         },
         "mark": {
          "color": "white",
          "dx": -30,
          "dy": 0,
          "type": "text"
         }
        }
       ],
       "usermeta": {
        "embedOptions": {
         "theme": "excel"
        }
       }
      },
      "text/plain": [
       "<VegaLite 5 object>\n",
       "\n",
       "If you see this message, it means the renderer has not been properly enabled\n",
       "for the frontend that you are using. For more information, see\n",
       "https://altair-viz.github.io/user_guide/display_frontends.html#troubleshooting\n"
      ]
     },
     "metadata": {},
     "output_type": "display_data"
    },
    {
     "data": {
      "application/vnd.vegalite.v5+json": {
       "$schema": "https://vega.github.io/schema/vega-lite/v5.8.0.json",
       "config": {
        "view": {
         "continuousHeight": 300,
         "continuousWidth": 300
        }
       },
       "data": {
        "name": "data-c89dafee6a444e13b2e281b5471615a5"
       },
       "datasets": {
        "data-c89dafee6a444e13b2e281b5471615a5": [
         {
          "end_time": 4,
          "memory": 50,
          "name": "Job 1",
          "opacity": 1,
          "start_time": 0,
          "status": "execução"
         },
         {
          "end_time": 4,
          "memory": 100,
          "name": "Job 2",
          "opacity": 0.8,
          "start_time": 1,
          "status": "espera"
         },
         {
          "end_time": 6,
          "memory": 100,
          "name": "Job 2",
          "opacity": 1,
          "start_time": 4,
          "status": "execução"
         },
         {
          "end_time": 10,
          "memory": 150,
          "name": "Job 3",
          "opacity": 1,
          "start_time": 7,
          "status": "execução"
         }
        ]
       },
       "layer": [
        {
         "encoding": {
          "color": {
           "field": "status",
           "scale": {
            "domain": [
             "execução",
             "espera"
            ],
            "range": [
             "#1f77b4",
             "#d62728"
            ]
           },
           "type": "nominal"
          },
          "x": {
           "field": "start_time",
           "title": "Tempo de simulação",
           "type": "quantitative"
          },
          "x2": {
           "field": "end_time"
          },
          "y": {
           "field": "name",
           "title": "Job",
           "type": "nominal"
          }
         },
         "mark": {
          "type": "bar"
         }
        },
        {
         "encoding": {
          "detail": {
           "field": "status",
           "type": "nominal"
          },
          "text": {
           "field": "status",
           "type": "nominal"
          },
          "x": {
           "field": "end_time",
           "type": "quantitative"
          },
          "y": {
           "field": "name",
           "type": "nominal"
          }
         },
         "mark": {
          "color": "white",
          "dx": -30,
          "dy": 0,
          "type": "text"
         }
        }
       ],
       "usermeta": {
        "embedOptions": {
         "theme": "excel"
        }
       }
      },
      "text/plain": [
       "<VegaLite 5 object>\n",
       "\n",
       "If you see this message, it means the renderer has not been properly enabled\n",
       "for the frontend that you are using. For more information, see\n",
       "https://altair-viz.github.io/user_guide/display_frontends.html#troubleshooting\n"
      ]
     },
     "metadata": {},
     "output_type": "display_data"
    },
    {
     "data": {
      "application/vnd.vegalite.v5+json": {
       "$schema": "https://vega.github.io/schema/vega-lite/v5.8.0.json",
       "config": {
        "view": {
         "continuousHeight": 300,
         "continuousWidth": 300
        }
       },
       "data": {
        "name": "data-b2a3db3a1253349149d6e4a314c9f634"
       },
       "datasets": {
        "data-b2a3db3a1253349149d6e4a314c9f634": [
         {
          "end_time": 4,
          "memory": 50,
          "name": "Job 1",
          "opacity": 1,
          "start_time": 0,
          "status": "execução"
         },
         {
          "end_time": 4,
          "memory": 100,
          "name": "Job 2",
          "opacity": 0.8,
          "start_time": 1,
          "status": "espera"
         },
         {
          "end_time": 6,
          "memory": 100,
          "name": "Job 2",
          "opacity": 1,
          "start_time": 4,
          "status": "execução"
         },
         {
          "end_time": 6,
          "memory": 150,
          "name": "Job 3",
          "opacity": 0.8,
          "start_time": 3,
          "status": "espera"
         },
         {
          "end_time": 8,
          "memory": 150,
          "name": "Job 3",
          "opacity": 1,
          "start_time": 6,
          "status": "execução"
         },
         {
          "end_time": 8,
          "memory": 120,
          "name": "Job 4",
          "opacity": 0.8,
          "start_time": 5,
          "status": "espera"
         },
         {
          "end_time": 10,
          "memory": 120,
          "name": "Job 4",
          "opacity": 1,
          "start_time": 8,
          "status": "execução"
         }
        ]
       },
       "layer": [
        {
         "encoding": {
          "color": {
           "field": "status",
           "scale": {
            "domain": [
             "execução",
             "espera"
            ],
            "range": [
             "#1f77b4",
             "#d62728"
            ]
           },
           "type": "nominal"
          },
          "x": {
           "field": "start_time",
           "title": "Tempo de simulação",
           "type": "quantitative"
          },
          "x2": {
           "field": "end_time"
          },
          "y": {
           "field": "name",
           "title": "Job",
           "type": "nominal"
          }
         },
         "mark": {
          "type": "bar"
         }
        },
        {
         "encoding": {
          "detail": {
           "field": "status",
           "type": "nominal"
          },
          "text": {
           "field": "status",
           "type": "nominal"
          },
          "x": {
           "field": "end_time",
           "type": "quantitative"
          },
          "y": {
           "field": "name",
           "type": "nominal"
          }
         },
         "mark": {
          "color": "white",
          "dx": -30,
          "dy": 0,
          "type": "text"
         }
        }
       ],
       "usermeta": {
        "embedOptions": {
         "theme": "excel"
        }
       }
      },
      "text/plain": [
       "<VegaLite 5 object>\n",
       "\n",
       "If you see this message, it means the renderer has not been properly enabled\n",
       "for the frontend that you are using. For more information, see\n",
       "https://altair-viz.github.io/user_guide/display_frontends.html#troubleshooting\n"
      ]
     },
     "metadata": {},
     "output_type": "display_data"
    },
    {
     "data": {
      "application/vnd.vegalite.v5+json": {
       "$schema": "https://vega.github.io/schema/vega-lite/v5.8.0.json",
       "config": {
        "view": {
         "continuousHeight": 300,
         "continuousWidth": 300
        }
       },
       "data": {
        "name": "data-b1f446235c1cea0e3c0a47dddc6f14ac"
       },
       "datasets": {
        "data-b1f446235c1cea0e3c0a47dddc6f14ac": [
         {
          "end_time": 2,
          "memory": 100,
          "name": "Job 1",
          "opacity": 1,
          "start_time": 0,
          "status": "execução"
         },
         {
          "end_time": 6,
          "memory": 80,
          "name": "Job 2",
          "opacity": 1,
          "start_time": 3,
          "status": "execução"
         },
         {
          "end_time": 6,
          "memory": 40,
          "name": "Job 3",
          "opacity": 0.8,
          "start_time": 3,
          "status": "espera"
         },
         {
          "end_time": 8,
          "memory": 40,
          "name": "Job 3",
          "opacity": 1,
          "start_time": 6,
          "status": "execução"
         },
         {
          "end_time": 8,
          "memory": 150,
          "name": "Job 4",
          "opacity": 0.8,
          "start_time": 3,
          "status": "espera"
         },
         {
          "end_time": 10,
          "memory": 150,
          "name": "Job 4",
          "opacity": 1,
          "start_time": 8,
          "status": "execução"
         }
        ]
       },
       "layer": [
        {
         "encoding": {
          "color": {
           "field": "status",
           "scale": {
            "domain": [
             "execução",
             "espera"
            ],
            "range": [
             "#1f77b4",
             "#d62728"
            ]
           },
           "type": "nominal"
          },
          "x": {
           "field": "start_time",
           "title": "Tempo de simulação",
           "type": "quantitative"
          },
          "x2": {
           "field": "end_time"
          },
          "y": {
           "field": "name",
           "title": "Job",
           "type": "nominal"
          }
         },
         "mark": {
          "type": "bar"
         }
        },
        {
         "encoding": {
          "detail": {
           "field": "status",
           "type": "nominal"
          },
          "text": {
           "field": "status",
           "type": "nominal"
          },
          "x": {
           "field": "end_time",
           "type": "quantitative"
          },
          "y": {
           "field": "name",
           "type": "nominal"
          }
         },
         "mark": {
          "color": "white",
          "dx": -30,
          "dy": 0,
          "type": "text"
         }
        }
       ],
       "usermeta": {
        "embedOptions": {
         "theme": "excel"
        }
       }
      },
      "text/plain": [
       "<VegaLite 5 object>\n",
       "\n",
       "If you see this message, it means the renderer has not been properly enabled\n",
       "for the frontend that you are using. For more information, see\n",
       "https://altair-viz.github.io/user_guide/display_frontends.html#troubleshooting\n"
      ]
     },
     "metadata": {},
     "output_type": "display_data"
    },
    {
     "data": {
      "image/png": "[encoded data removed]",
      "text/plain": [
       "<Figure size 800x400 with 1 Axes>"
      ]
     },
     "metadata": {},
     "output_type": "display_data"
    },
    {
     "data": {
      "image/png": "[encoded data removed]",
      "text/plain": [
       "<Figure size 800x400 with 1 Axes>"
      ]
     },
     "metadata": {},
     "output_type": "display_data"
    },
    {
     "data": {
      "image/png": "[encoded data removed]",
      "text/plain": [
       "<Figure size 800x400 with 1 Axes>"
      ]
     },
     "metadata": {},
     "output_type": "display_data"
    },
    {
     "data": {
      "image/png": "[encoded data removed]",
      "text/plain": [
       "<Figure size 800x400 with 1 Axes>"
      ]
     },
     "metadata": {},
     "output_type": "display_data"
    }
   ],
   "source": [
    "import numpy as np\n",
    "import matplotlib.pyplot as plt\n",
    "import pandas as pd\n",
    "import altair as alt\n",
    "import matplotlib as mpl\n",
    "from matplotlib.colors import ListedColormap\n",
    "\n",
    "alt.renderers.enable('jupyterlab')\n",
    "alt.themes.enable('excel')\n",
    "\n",
    "def plot(jobs: list, save_path = None):\n",
    "  df = pd.DataFrame(jobs)\n",
    "  df['opacity'] = np.where(df['status'] == 'execução', 1.0, 0.8)\n",
    "  \n",
    "  color_domain = ['execução', 'espera']\n",
    "  color_range = ['#1f77b4', '#d62728']\n",
    "\n",
    "  bars = alt.Chart(df).mark_bar().encode(\n",
    "    x=alt.X('start_time').title('Tempo de simulação'),\n",
    "    x2='end_time',\n",
    "    y=alt.Y('name').title('Job'),\n",
    "    color=alt.Color('status').scale(domain=color_domain, range=color_range),\n",
    "    # opacity=alt.Opacity('opacity', legend=None),\n",
    "  )\n",
    "  # .properties(\n",
    "  #   width=400,\n",
    "  #   height=100\n",
    "  # )\n",
    "  \n",
    "  text = alt.Chart(df).mark_text(dx=-30, dy=0, color='white').encode(\n",
    "    x=alt.X('end_time'),\n",
    "    y=alt.Y('name'),\n",
    "    detail='status',\n",
    "    text=alt.Text('status'),\n",
    "  )\n",
    "  \n",
    "  fig =  bars + text\n",
    "  fig.display()\n",
    "  \n",
    "  if save_path:\n",
    "    fig.save(save_path, scale_factor=3, engine='vl-convert', ppi=800)\n",
    "  \n",
    "  return fig\n",
    "\n",
    "\n",
    "def plot_memory(jobs: list, save_path = None):\n",
    "  df_meta = pd.DataFrame(jobs)\n",
    "  max_time = df_meta.end_time.max() + 1\n",
    "  fig, ax = plt.subplots(figsize=(8, 4))\n",
    "  \n",
    "  mem_values = []\n",
    "  labels = []\n",
    "  \n",
    "  for job in jobs:\n",
    "    if job['status'] == 'execução':\n",
    "      mem = np.zeros(max_time)\n",
    "      mem[job['start_time'] : job['end_time']] = job['memory']\n",
    "      mem_values.append(mem)\n",
    "      labels.append(job['name'])\n",
    "  \n",
    "  plt.stackplot(range(max_time), *mem_values, step='post', labels=labels, edgecolor='k', linewidth=1.5)\n",
    "  plt.legend(loc='upper left')\n",
    "  plt.xlabel('Tempo de Simulação')\n",
    "  plt.ylabel('Memória (kB)')\n",
    "  # plt.grid(True, axis='y', color='#a1a1a1', linewidth=0.6, linestyle='--', alpha=0.4)\n",
    "  plt.tick_params('both', right=True, top=True, direction='in')\n",
    "  plt.title('Alocação da Memória')\n",
    "  \n",
    "  plt.savefig(save_path, pad_inches=0.05, bbox_inches='tight')\n",
    "  plt.plot()\n",
    "  \n",
    "  \n",
    "jobs1 = [\n",
    "  {\n",
    "    'start_time': 1,\n",
    "    'end_time': 3,\n",
    "    'name': 'Job 1',\n",
    "    'memory': 50,\n",
    "    'status': 'execução',\n",
    "  },\n",
    "  {\n",
    "    'start_time': 4,\n",
    "    'end_time': 6,\n",
    "    'name': 'Job 2',\n",
    "    'memory': 100,\n",
    "    'status': 'execução',\n",
    "  },\n",
    "  {\n",
    "    'start_time': 8,\n",
    "    'end_time': 10,\n",
    "    'name': 'Job 3',\n",
    "    'memory': 150,\n",
    "    'status': 'execução',\n",
    "  },\n",
    "]\n",
    "\n",
    "jobs2 = [\n",
    "  {\n",
    "    'start_time': 0,\n",
    "    'end_time': 4,\n",
    "    'name': 'Job 1',\n",
    "    'memory': 50,\n",
    "    'status': 'execução',\n",
    "  },\n",
    "  {\n",
    "    'start_time': 1,\n",
    "    'end_time': 4,\n",
    "    'name': 'Job 2',\n",
    "    'memory': 100,\n",
    "    'status': 'espera',\n",
    "  },\n",
    "  {\n",
    "    'start_time': 4,\n",
    "    'end_time': 6,\n",
    "    'name': 'Job 2',\n",
    "    'memory': 100,\n",
    "    'status': 'execução',\n",
    "  },\n",
    "  {\n",
    "    'start_time': 7,\n",
    "    'end_time': 10,\n",
    "    'name': 'Job 3',\n",
    "    'memory': 150,\n",
    "    'status': 'execução',\n",
    "  }\n",
    "]\n",
    "\n",
    "jobs3 = [\n",
    "  {\n",
    "    'start_time': 0,\n",
    "    'end_time': 4,\n",
    "    'name': 'Job 1',\n",
    "    'memory': 50,\n",
    "    'status': 'execução',\n",
    "  },\n",
    "  {\n",
    "    'start_time': 1,\n",
    "    'end_time': 4,\n",
    "    'name': 'Job 2',\n",
    "    'memory': 100,\n",
    "    'status': 'espera',\n",
    "  },\n",
    "  {\n",
    "    'start_time': 4,\n",
    "    'end_time': 6,\n",
    "    'name': 'Job 2',\n",
    "    'memory': 100,\n",
    "    'status': 'execução',\n",
    "  },\n",
    "  {\n",
    "    'start_time': 3,\n",
    "    'end_time': 6,\n",
    "    'name': 'Job 3',\n",
    "    'memory': 150,\n",
    "    'status': 'espera',\n",
    "  },\n",
    "  {\n",
    "    'start_time': 6,\n",
    "    'end_time': 8,\n",
    "    'name': 'Job 3',\n",
    "    'memory': 150,\n",
    "    'status': 'execução',\n",
    "  },\n",
    "  {\n",
    "    'start_time': 5,\n",
    "    'end_time': 8,\n",
    "    'name': 'Job 4',\n",
    "    'memory': 120,\n",
    "    'status': 'espera',\n",
    "  },\n",
    "  {\n",
    "    'start_time': 8,\n",
    "    'end_time': 10,\n",
    "    'name': 'Job 4',\n",
    "    'memory': 120,\n",
    "    'status': 'execução',\n",
    "  }\n",
    "]\n",
    "\n",
    "jobs4 = [\n",
    "  {\n",
    "    'start_time': 0,\n",
    "    'end_time': 2,\n",
    "    'name': 'Job 1',\n",
    "    'memory': 100,\n",
    "    'status': 'execução',\n",
    "  },\n",
    "  {\n",
    "    'start_time': 3,\n",
    "    'end_time': 6,\n",
    "    'name': 'Job 2',\n",
    "    'memory': 80,\n",
    "    'status': 'execução',\n",
    "  },\n",
    "  {\n",
    "    'start_time': 3,\n",
    "    'end_time': 6,\n",
    "    'name': 'Job 3',\n",
    "    'memory': 40,\n",
    "    'status': 'espera',\n",
    "  },\n",
    "  {\n",
    "    'start_time': 6,\n",
    "    'end_time': 8,\n",
    "    'name': 'Job 3',\n",
    "    'memory': 40,\n",
    "    'status': 'execução',\n",
    "  },\n",
    "  {\n",
    "    'start_time': 3,\n",
    "    'end_time': 8,\n",
    "    'name': 'Job 4',\n",
    "    'memory': 150,\n",
    "    'status': 'espera',\n",
    "  },\n",
    "  {\n",
    "    'start_time': 8,\n",
    "    'end_time': 10,\n",
    "    'name': 'Job 4',\n",
    "    'memory': 150,\n",
    "    'status': 'execução',\n",
    "  }\n",
    "]\n",
    "\n",
    "tests = (jobs1, jobs2, jobs3, jobs4)\n",
    "\n",
    "for i, jobs in enumerate(tests, 1):\n",
    "  plot(jobs, save_path=f'plots/exec_{i}.png')\n",
    "  plot_memory(jobs, save_path=f'plots/mem_{i}.pdf')"
   ]
  },
  {
   "cell_type": "code",
   "execution_count": 57,
   "metadata": {},
   "outputs": [
    {
     "data": {
      "text/plain": [
       "ThemeRegistry(active='default', registered=['dark', 'default', 'excel', 'fivethirtyeight', 'ggplot2', 'googlecharts', 'latimes', 'none', 'opaque', 'powerbi', 'quartz', 'urbaninstitute', 'vox'])"
      ]
     },
     "execution_count": 57,
     "metadata": {},
     "output_type": "execute_result"
    }
   ],
   "source": [
    "alt.themes"
   ]
  }
 ],
 "metadata": {
  "kernelspec": {
   "display_name": "Python 3",
   "language": "python",
   "name": "python3"
  },
  "language_info": {
   "codemirror_mode": {
    "name": "ipython",
    "version": 3
   },
   "file_extension": ".py",
   "mimetype": "text/x-python",
   "name": "python",
   "nbconvert_exporter": "python",
   "pygments_lexer": "ipython3",
   "version": "3.11.4"
  },
  "orig_nbformat": 4
 },
 "nbformat": 4,
 "nbformat_minor": 2
}
