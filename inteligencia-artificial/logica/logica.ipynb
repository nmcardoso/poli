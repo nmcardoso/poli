{
 "cells": [
  {
   "cell_type": "code",
   "execution_count": 4,
   "metadata": {},
   "outputs": [],
   "source": [
    "from sympy import *\n",
    "from sympy.logic import simplify_logic\n",
    "from sympy.logic.inference import PropKB"
   ]
  },
  {
   "cell_type": "code",
   "execution_count": 2,
   "metadata": {},
   "outputs": [
    {
     "name": "stdout",
     "output_type": "stream",
     "text": [
      "A = False\n",
      "B = True\n",
      "C = False\n",
      "D = False\n"
     ]
    }
   ],
   "source": [
    "a, b, c, d = symbols('a b c d')\n",
    "exp1 = (~a) | (~b)\n",
    "exp2 = (~a) << (b & c)\n",
    "exp3 = b | d\n",
    "exp4 = ~d\n",
    "\n",
    "l = PropKB()\n",
    "l.tell(exp1)\n",
    "l.tell(exp2)\n",
    "l.tell(exp3)\n",
    "l.tell(exp4)\n",
    "\n",
    "print('A =', l.ask(a))\n",
    "print('B =', l.ask(b))\n",
    "print('C =', l.ask(c))\n",
    "print('D =', l.ask(d))"
   ]
  },
  {
   "cell_type": "code",
   "execution_count": 8,
   "metadata": {},
   "outputs": [
    {
     "name": "stdout",
     "output_type": "stream",
     "text": [
      "B or C = False\n"
     ]
    }
   ],
   "source": [
    "exp = (a | (~b)) & (b | c | d)\n",
    "\n",
    "l = PropKB()\n",
    "l.tell(exp)\n",
    "print('B or C =', l.ask(b | c))"
   ]
  },
  {
   "cell_type": "code",
   "execution_count": 9,
   "metadata": {},
   "outputs": [
    {
     "name": "stdout",
     "output_type": "stream",
     "text": [
      "A = False\n",
      "B = False\n"
     ]
    }
   ],
   "source": [
    "exp1 = a >> b\n",
    "exp2 = ~b\n",
    "\n",
    "l = PropKB()\n",
    "l.tell(exp1)\n",
    "l.tell(exp2)\n",
    "\n",
    "print('A =', l.ask(a))\n",
    "print('B =', l.ask(b))"
   ]
  }
 ],
 "metadata": {
  "kernelspec": {
   "display_name": "Python 3",
   "language": "python",
   "name": "python3"
  },
  "language_info": {
   "codemirror_mode": {
    "name": "ipython",
    "version": 3
   },
   "file_extension": ".py",
   "mimetype": "text/x-python",
   "name": "python",
   "nbconvert_exporter": "python",
   "pygments_lexer": "ipython3",
   "version": "3.11.4"
  }
 },
 "nbformat": 4,
 "nbformat_minor": 2
}
