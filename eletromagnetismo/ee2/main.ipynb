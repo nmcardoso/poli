{
 "cells": [
  {
   "cell_type": "code",
   "execution_count": 1,
   "source": [
    "import numpy as np"
   ],
   "outputs": [],
   "metadata": {}
  },
  {
   "cell_type": "code",
   "execution_count": 2,
   "source": [
    "h = 11\n",
    "a = 3.125e-3\n",
    "d = 0.3\n",
    "D = 1.5\n",
    "l = 1e3\n",
    "e = 8.854e-12\n",
    "\n",
    "X11 = 2*(h+d)/a\n",
    "X12 = (2*h+d)/d\n",
    "X13 = np.sqrt((2*h+2*d)**2+D**2)/D\n",
    "X14 = np.sqrt(((2*h+d)**2)/(d**2+D**2))\n",
    "X22 = 2*h/a\n",
    "X23 = np.sqrt(((2*h+d)**2+D**2)/(d**2+D**2))\n",
    "X24 = np.sqrt((2*h)**2+D**2)/D\n",
    "X33 = 2*(h+d)/a\n",
    "X34 = (2*h+d)/d\n",
    "X44 = (2*h)/a\n",
    "k = 1./(2*np.pi*e*l)\n",
    "\n",
    "S_alpha = np.array([\n",
    "  [X11, X12, X13, X14], \n",
    "  [X12, X22, X23, X24],\n",
    "  [X13, X23, X33, X34],\n",
    "  [X14, X24, X34, X44]\n",
    "])\n",
    "S = k*np.log(S_alpha)\n",
    "\n",
    "C = np.linalg.inv(S)\n",
    "S"
   ],
   "outputs": [
    {
     "output_type": "execute_result",
     "data": {
      "text/plain": [
       "array([[1.59735028e+08, 7.74484458e+07, 4.87977353e+07, 4.81655133e+07],\n",
       "       [7.74484458e+07, 1.59251354e+08, 4.82060868e+07, 4.83162400e+07],\n",
       "       [4.87977353e+07, 4.82060868e+07, 1.59735028e+08, 7.74484458e+07],\n",
       "       [4.81655133e+07, 4.83162400e+07, 7.74484458e+07, 1.59251354e+08]])"
      ]
     },
     "metadata": {},
     "execution_count": 2
    }
   ],
   "metadata": {}
  },
  {
   "cell_type": "code",
   "execution_count": 9,
   "source": [
    "np.sum(C, axis=1)"
   ],
   "outputs": [
    {
     "output_type": "execute_result",
     "data": {
      "text/plain": [
       "array([2.98006774e-09, 3.01367518e-09, 2.97857390e-09, 3.01515889e-09])"
      ]
     },
     "metadata": {},
     "execution_count": 9
    }
   ],
   "metadata": {}
  },
  {
   "cell_type": "code",
   "execution_count": 10,
   "source": [
    "We = 0\n",
    "V = [40e3, 0, 10e3, 0]\n",
    "for k in range(4):\n",
    "  for i in range(4):\n",
    "    We += C[k,i]*V[k]*V[i]\n",
    "We *= 0.5\n",
    "print(We)"
   ],
   "outputs": [
    {
     "output_type": "stream",
     "name": "stdout",
     "text": [
      "6.896793975653718\n"
     ]
    }
   ],
   "metadata": {}
  }
 ],
 "metadata": {
  "orig_nbformat": 4,
  "language_info": {
   "name": "python"
  }
 },
 "nbformat": 4,
 "nbformat_minor": 2
}